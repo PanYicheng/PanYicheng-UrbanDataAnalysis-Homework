{
 "cells": [
  {
   "cell_type": "code",
   "execution_count": 107,
   "metadata": {},
   "outputs": [],
   "source": [
    "import requests\n",
    "from lxml import etree\n",
    "from bs4 import BeautifulSoup\n",
    "import json\n",
    "import time"
   ]
  },
  {
   "cell_type": "code",
   "execution_count": 34,
   "metadata": {},
   "outputs": [],
   "source": [
    "login_url = 'https://accounts.douban.com/passport/login'\n",
    "post_url = 'https://accounts.douban.com/j/mobile/login/basic'\n",
    "toplist_url = 'https://movie.douban.com/top250?start=0&filter='\n",
    "\n",
    "headers = {\n",
    "    'Host': 'accounts.douban.com',\n",
    "    'Referer': 'https://accounts.douban.com/passport/login',\n",
    "    'User-Agent': 'Mozilla/5.0 (Windows NT 10.0; Win64; x64) AppleWebKit/537.36 (KHTML, like Gecko) Chrome/80.0.3987.122 Safari/537.36'\n",
    "}\n",
    "\n",
    "toplist_headers = {\n",
    "    'Host': 'movie.douban.com',\n",
    "    'Referer': 'https://movie.douban.com/top250',\n",
    "    'User-Agent': 'Mozilla/5.0 (Windows NT 10.0; Win64; x64) AppleWebKit/537.36 (KHTML, like Gecko) Chrome/80.0.3987.122 Safari/537.36'\n",
    "}"
   ]
  },
  {
   "cell_type": "code",
   "execution_count": 19,
   "metadata": {},
   "outputs": [],
   "source": [
    "session = requests.Session()\n",
    "response = session.get(login_url, headers=headers)"
   ]
  },
  {
   "cell_type": "code",
   "execution_count": 20,
   "metadata": {},
   "outputs": [],
   "source": [
    "post_data = {\n",
    "    'ck': '',\n",
    "    'name': '18811319022',\n",
    "    'password': 'JJkCE3CgsJJ.G!X',\n",
    "    'remember': 'false',\n",
    "    'ticket': ''}\n",
    "login_response = session.post(post_url, data=post_data, headers=headers)"
   ]
  },
  {
   "cell_type": "code",
   "execution_count": 103,
   "metadata": {
    "scrolled": false
   },
   "outputs": [
    {
     "data": {
      "text/plain": [
       "200"
      ]
     },
     "execution_count": 103,
     "metadata": {},
     "output_type": "execute_result"
    }
   ],
   "source": [
    "login_response.status_code"
   ]
  },
  {
   "cell_type": "code",
   "execution_count": 104,
   "metadata": {},
   "outputs": [],
   "source": [
    "page_urls = []\n",
    "for index in range(0, 250, 25):\n",
    "    toplist_response = session.get('https://movie.douban.com/top250?start={}&filter='.format(index), headers=toplist_headers)\n",
    "    if toplist_response.status_code == 200:\n",
    "        soup = BeautifulSoup(toplist_response.text, 'html.parser')\n",
    "        detailed_page_url = [_['href'] for _ in soup.select('.grid_view li .pic a')]\n",
    "        page_urls.extend(detailed_page_url)"
   ]
  },
  {
   "cell_type": "code",
   "execution_count": 118,
   "metadata": {
    "scrolled": false
   },
   "outputs": [],
   "source": [
    "i = 0\n",
    "info_dict_list = []"
   ]
  },
  {
   "cell_type": "code",
   "execution_count": 131,
   "metadata": {
    "scrolled": false
   },
   "outputs": [
    {
     "name": "stdout",
     "output_type": "stream",
     "text": [
      "Current  20/250, 200 OK\n",
      "Current  21/250, 200 OK\n",
      "Current  22/250, 200 OK\n",
      "Current  23/250, 200 OK\n",
      "Current  24/250, 200 OK\n",
      "Current  25/250, 200 OK\n",
      "Current  26/250, 200 OK\n",
      "Current  27/250, 200 OK\n",
      "Current  28/250, 200 OK\n",
      "Current  29/250, 200 OK\n",
      "Current  30/250, 200 OK\n",
      "Current  31/250, 200 OK\n",
      "Current  32/250, 200 OK\n",
      "Current  33/250, 200 OK\n",
      "Current  34/250, 200 OK\n",
      "Current  35/250, 200 OK\n",
      "Current  36/250, 200 OK\n",
      "Current  37/250, 200 OK\n",
      "Current  38/250, 200 OK\n",
      "Current  39/250, 200 OK\n",
      "Current  40/250, 200 OK\n",
      "Current  41/250, 200 OK\n",
      "Current  42/250, 200 OK\n",
      "Current  43/250, 200 OK\n",
      "Current  44/250, 200 OK\n",
      "Current  45/250, 200 OK\n",
      "Current  46/250, 200 OK\n",
      "Current  47/250, 200 OK\n",
      "Current  48/250, 200 OK\n",
      "Current  49/250, 200 OK\n",
      "Current  50/250, 200 OK\n",
      "Current  51/250, 200 OK\n",
      "Current  52/250, 200 OK\n",
      "Current  53/250, 200 OK\n",
      "Current  54/250, 200 OK\n",
      "Current  55/250, 200 OK\n",
      "Current  56/250, 200 OK\n",
      "Current  57/250, 200 OK\n",
      "Current  58/250, 200 OK\n",
      "Current  59/250, 200 OK\n",
      "Current  60/250, 200 OK\n",
      "Current  61/250, 200 OK\n",
      "Current  62/250, 200 OK\n",
      "Current  63/250, 200 OK\n",
      "Current  64/250, 200 OK\n",
      "Current  65/250, 200 OK\n",
      "Current  66/250, 200 OK\n",
      "Current  67/250, 200 OK\n",
      "Current  68/250, 200 OK\n",
      "Current  69/250, 200 OK\n",
      "Current  70/250, 200 OK\n",
      "Current  71/250, 200 OK\n",
      "Current  72/250, 200 OK\n",
      "Current  73/250, 200 OK\n",
      "Current  74/250, 200 OK\n",
      "Current  75/250, 200 OK\n",
      "Current  76/250, 200 OK\n",
      "Current  77/250, 200 OK\n",
      "Current  78/250, 200 OK\n",
      "Current  79/250, 200 OK\n",
      "Current  80/250, 200 OK\n",
      "Current  81/250, 200 OK\n",
      "Current  82/250, 200 OK\n",
      "Current  83/250, 200 OK\n",
      "Current  84/250, 200 OK\n",
      "Current  85/250, 200 OK\n",
      "Current  86/250, 200 OK\n",
      "Current  87/250, 200 OK\n",
      "Current  88/250, 200 OK\n",
      "Current  89/250, 200 OK\n",
      "Current  90/250, 200 OK\n",
      "Current  91/250, 200 OK\n",
      "Current  92/250, 200 OK\n",
      "Current  93/250, 200 OK\n",
      "Current  94/250, 200 OK\n",
      "Current  95/250, 200 OK\n",
      "Current  96/250, 200 OK\n",
      "Current  97/250, 200 OK\n",
      "Current  98/250, 200 OK\n",
      "Current  99/250, 200 OK\n",
      "Current 100/250, 200 OK\n",
      "Current 101/250, 200 OK\n",
      "Current 102/250, 200 OK\n",
      "Current 103/250, 200 OK\n",
      "Current 104/250, 200 OK\n",
      "Current 105/250, 200 OK\n",
      "Current 106/250, 200 OK\n",
      "Current 107/250, 200 OK\n",
      "Current 108/250, 200 OK\n",
      "Current 109/250, 200 OK\n",
      "Current 110/250, 200 OK\n",
      "Current 111/250, 200 OK\n",
      "Current 112/250, 200 OK\n",
      "Current 113/250, 200 OK\n",
      "Current 114/250, 200 OK\n",
      "Current 115/250, 200 OK\n",
      "Current 116/250, 200 OK\n",
      "Current 117/250, 200 OK\n",
      "Current 118/250, 200 OK\n",
      "Current 119/250, 200 OK\n",
      "Current 120/250, 200 OK\n",
      "Current 121/250, 200 OK\n",
      "Current 122/250, 200 OK\n",
      "Current 123/250, 200 OK\n",
      "Current 124/250, 200 OK\n",
      "Current 125/250, 200 OK\n",
      "Current 126/250, 200 OK\n",
      "Current 127/250, 200 OK\n",
      "Current 128/250, 200 OK\n",
      "Current 129/250, 200 OK\n",
      "Current 130/250, 200 OK\n",
      "Current 131/250, 200 OK\n",
      "Current 132/250, 200 OK\n",
      "Current 133/250, 200 OK\n",
      "Current 134/250, 200 OK\n",
      "Current 135/250, 200 OK\n",
      "Current 136/250, 200 OK\n",
      "Current 137/250, 200 OK\n",
      "Current 138/250, 200 OK\n",
      "Current 139/250, 200 OK\n",
      "Current 140/250, 200 OK\n",
      "Current 141/250, 200 OK\n",
      "Current 142/250, 200 OK\n",
      "Current 143/250, 200 OK\n",
      "Current 144/250, 200 OK\n",
      "Current 145/250, 200 OK\n",
      "Current 146/250, 200 OK\n",
      "Current 147/250, 200 OK\n",
      "Current 148/250, 200 OK\n",
      "Current 149/250, 200 OK\n",
      "Current 150/250, 200 OK\n",
      "Current 151/250, 200 OK\n",
      "Current 152/250, 200 OK\n",
      "Current 153/250, 200 OK\n",
      "Current 154/250, 200 OK\n",
      "Current 155/250, 200 OK\n",
      "Current 156/250, 200 OK\n",
      "Current 157/250, 200 OK\n",
      "Current 158/250, 200 OK\n",
      "Current 159/250, 200 OK\n",
      "Current 160/250, 200 OK\n",
      "Current 161/250, 200 OK\n",
      "Current 162/250, 200 OK\n",
      "Current 163/250, 200 OK\n",
      "Current 164/250, 200 OK\n",
      "Current 165/250, 200 OK\n",
      "Current 166/250, 200 OK\n",
      "Current 167/250, 200 OK\n",
      "Current 168/250, 200 OK\n",
      "Current 169/250, 200 OK\n",
      "Current 170/250, 200 OK\n",
      "Current 171/250, 200 OK\n",
      "Current 172/250, 200 OK\n",
      "Current 173/250, 200 OK\n",
      "Current 174/250, 200 OK\n",
      "Current 175/250, 200 OK\n",
      "Current 176/250, 200 OK\n",
      "Current 177/250, 200 OK\n",
      "Current 178/250, 200 OK\n",
      "Current 179/250, 200 OK\n",
      "Current 180/250, 200 OK\n",
      "Current 181/250, 200 OK\n",
      "Current 182/250, 200 OK\n",
      "Current 183/250, 200 OK\n",
      "Current 184/250, 200 OK\n",
      "Current 185/250, 200 OK\n",
      "Current 186/250, 200 OK\n",
      "Current 187/250, 200 OK\n",
      "Current 188/250, 200 OK\n",
      "Current 189/250, 200 OK\n",
      "Current 190/250, 200 OK\n",
      "Current 191/250, 200 OK\n",
      "Current 192/250, 200 OK\n",
      "Current 193/250, 200 OK\n",
      "Current 194/250, 200 OK\n",
      "Current 195/250, 200 OK\n",
      "Current 196/250, 200 OK\n",
      "Current 197/250, 200 OK\n",
      "Current 198/250, 200 OK\n",
      "Current 199/250, 200 OK\n",
      "Current 200/250, 200 OK\n",
      "Current 201/250, 200 OK\n",
      "Current 202/250, 200 OK\n",
      "Current 203/250, 200 OK\n",
      "Current 204/250, 200 OK\n",
      "Current 205/250, 200 OK\n",
      "Current 206/250, 200 OK\n",
      "Current 207/250, 200 OK\n",
      "Current 208/250, 200 OK\n",
      "Current 209/250, 200 OK\n",
      "Current 210/250, 200 OK\n",
      "Current 211/250, 200 OK\n",
      "Current 212/250, 200 OK\n",
      "Current 213/250, 200 OK\n",
      "Current 214/250, 200 OK\n",
      "Current 215/250, 200 OK\n",
      "Current 216/250, 200 OK\n",
      "Current 217/250, 200 OK\n",
      "Current 218/250, 200 OK\n",
      "Current 219/250, 200 OK\n",
      "Current 220/250, 200 OK\n",
      "Current 221/250, 200 OK\n",
      "Current 222/250, 200 OK\n",
      "Current 223/250, 200 OK\n",
      "Current 224/250, 200 OK\n",
      "Current 225/250, 200 OK\n",
      "Current 226/250, 200 OK\n",
      "Current 227/250, 200 OK\n",
      "Current 228/250, 200 OK\n",
      "Current 229/250, 200 OK\n",
      "Current 230/250, 200 OK\n",
      "Current 231/250, 200 OK\n",
      "Current 232/250, 200 OK\n",
      "Current 233/250, 200 OK\n",
      "Current 234/250, 200 OK\n",
      "Current 235/250, 200 OK\n",
      "Current 236/250, 200 OK\n",
      "Current 237/250, 200 OK\n",
      "Current 238/250, 200 OK\n",
      "Current 239/250, 200 OK\n",
      "Current 240/250, 200 OK\n",
      "Current 241/250, 200 OK\n",
      "Current 242/250, 200 OK\n",
      "Current 243/250, 200 OK\n",
      "Current 244/250, 200 OK\n",
      "Current 245/250, 200 OK\n",
      "Current 246/250, 200 OK\n",
      "Current 247/250, 200 OK\n",
      "Current 248/250, 200 OK\n",
      "Current 249/250, 200 OK\n",
      "Current 250/250, 200 OK\n"
     ]
    }
   ],
   "source": [
    "while i < len(page_urls):\n",
    "    print('Current {:3d}/{:3d}'.format(i+1, len(page_urls)), end=', ')\n",
    "    detailed_page_response = session.get(page_urls[i], headers=toplist_headers)\n",
    "    if detailed_page_response.status_code == 200:\n",
    "        print('200 OK')\n",
    "        movie_soup = BeautifulSoup(detailed_page_response.text, 'html.parser')\n",
    "        info_dict = json.loads(movie_soup.select('script[type=\"application/ld+json\"]')[0].text, strict=False)\n",
    "        info_list = [i.string for i in movie_soup.select('div#info')[0].children]\n",
    "        for _, s in enumerate(info_list):\n",
    "            if s == '制片国家/地区:':\n",
    "                break\n",
    "        info_dict['area'] = info_list[_+1]\n",
    "        desc = list(movie_soup.find('div', attrs={'class': 'indent', 'id': 'link-report'}).children)[3].text.replace('\\n', '').replace('\\u3000', '').strip()\n",
    "        info_dict['description'] = desc\n",
    "        info_dict_list.append(info_dict)\n",
    "    i = i + 1\n",
    "#     time.sleep(3)"
   ]
  },
  {
   "cell_type": "code",
   "execution_count": 133,
   "metadata": {
    "scrolled": false
   },
   "outputs": [
    {
     "data": {
      "text/plain": [
       "250"
      ]
     },
     "execution_count": 133,
     "metadata": {},
     "output_type": "execute_result"
    }
   ],
   "source": [
    "len(info_dict_list)"
   ]
  },
  {
   "cell_type": "code",
   "execution_count": 136,
   "metadata": {},
   "outputs": [],
   "source": [
    "lines = [json.dumps(info_dict, ensure_ascii=False) for info_dict in info_dict_list]"
   ]
  },
  {
   "cell_type": "code",
   "execution_count": 142,
   "metadata": {},
   "outputs": [],
   "source": [
    "for line in lines:\n",
    "    try:\n",
    "        line.encode()\n",
    "    except:\n",
    "        print('Encode failed')\n",
    "        break"
   ]
  },
  {
   "cell_type": "code",
   "execution_count": 149,
   "metadata": {},
   "outputs": [
    {
     "data": {
      "text/plain": [
       "'{\"@context\": \"http://schema.org\", \"name\": \"变脸 Face/Off\", \"url\": \"/subject/1292659/\", \"image\": \"https://img3.doubanio.com/view/photo/s_ratio_poster/public/p2173855883.jpg\", \"director\": [{\"@type\": \"Person\", \"url\": \"/celebrity/1027853/\", \"name\": \"吴宇森 John Woo\"}], \"author\": [{\"@type\": \"Person\", \"url\": \"/celebrity/1300707/\", \"name\": \"麦克·韦柏 Mike Werb\"}, {\"@type\": \"Person\", \"url\": \"/celebrity/1281048/\", \"name\": \"迈克尔·科拉里 Michael Colleary\"}], \"actor\": [{\"@type\": \"Person\", \"url\": \"/celebrity/1054426/\", \"name\": \"约翰·特拉沃尔塔 John Travolta\"}, {\"@type\": \"Person\", \"url\": \"/celebrity/1054455/\", \"name\": \"尼古拉斯·凯奇 Nicolas Cage\"}, {\"@type\": \"Person\", \"url\": \"/celebrity/1025215/\", \"name\": \"琼·艾伦 Joan Allen\"}, {\"@type\": \"Person\", \"url\": \"/celebrity/1009310/\", \"name\": \"亚历桑德罗·尼沃拉 Alessandro Nivola\"}, {\"@type\": \"Person\", \"url\": \"/celebrity/1017913/\", \"name\": \"吉娜·格申 Gina Gershon\"}, {\"@type\": \"Person\", \"url\": \"/celebrity/1025191/\", \"name\": \"多米尼克·斯万 Dominique Swain\"}, {\"@type\": \"Person\", \"url\": \"/celebrity/1017986/\", \"name\": \"尼克·卡萨维蒂 Nick Cassavetes\"}, {\"@type\": \"Person\", \"url\": \"/celebrity/1049898/\", \"name\": \"哈威·普雷斯内尔 Harve Presnell\"}, {\"@type\": \"Person\", \"url\": \"/celebrity/1022706/\", \"name\": \"科鲁姆·费奥瑞 Colm Feore\"}, {\"@type\": \"Person\", \"url\": \"/celebrity/1025224/\", \"name\": \"约翰·卡洛·林奇 John Carroll Lynch\"}, {\"@type\": \"Person\", \"url\": \"/celebrity/1013803/\", \"name\": \"希·庞德 CCH Pounder\"}, {\"@type\": \"Person\", \"url\": \"/celebrity/1160892/\", \"name\": \"罗伯特·维斯多姆 Robert Wisdom\"}, {\"@type\": \"Person\", \"url\": \"/celebrity/1036518/\", \"name\": \"赵牡丹 Margaret Cho\"}, {\"@type\": \"Person\", \"url\": \"/celebrity/1085644/\", \"name\": \"詹姆斯·丹顿 James Denton\"}, {\"@type\": \"Person\", \"url\": \"/celebrity/1014057/\", \"name\": \"马特·罗斯 Matt Ross\"}, {\"@type\": \"Person\", \"url\": \"/celebrity/1067002/\", \"name\": \"克里斯·鲍尔 Chris Bauer\"}, {\"@type\": \"Person\", \"url\": \"/celebrity/1107086/\", \"name\": \"迈尔斯·杰弗里 Myles Jeffrey\"}, {\"@type\": \"Person\", \"url\": \"/celebrity/1360848/\", \"name\": \"大卫·麦克库利 David McCurley\"}, {\"@type\": \"Person\", \"url\": \"/celebrity/1031816/\", \"name\": \"托马斯·简 Thomas Jane\"}, {\"@type\": \"Person\", \"url\": \"/celebrity/1081424/\", \"name\": \"汤米·弗拉纳根 Tommy Flanagan\"}, {\"@type\": \"Person\", \"url\": \"/celebrity/1360849/\", \"name\": \"达纳·史密斯 Dana Smith\"}, {\"@type\": \"Person\", \"url\": \"/celebrity/1360852/\", \"name\": \"罗密·温莎 Romy Windsor\"}, {\"@type\": \"Person\", \"url\": \"/celebrity/1054952/\", \"name\": \"保罗•希普 Paul Hipp\"}, {\"@type\": \"Person\", \"url\": \"/celebrity/1050060/\", \"name\": \"柯克·鲍兹 Kirk Baltz\"}, {\"@type\": \"Person\", \"url\": \"/celebrity/1156505/\", \"name\": \"劳伦·辛克莱尔 Lauren Sinclair\"}, {\"@type\": \"Person\", \"url\": \"/celebrity/1147291/\", \"name\": \"本·里德 Ben Reed\"}, {\"@type\": \"Person\", \"url\": \"/celebrity/1069340/\", \"name\": \"丽莎·博伊尔 Lisa Boyle\"}, {\"@type\": \"Person\", \"url\": \"/celebrity/1360854/\", \"name\": \"琳达·霍夫曼 Linda Hoffman\"}, {\"@type\": \"Person\", \"url\": \"/celebrity/1031859/\", \"name\": \"丹尼·马斯特森 Danny Masterson\"}, {\"@type\": \"Person\", \"url\": \"/celebrity/1360856/\", \"name\": \"迈克尔·罗查 Michael Rocha\"}, {\"@type\": \"Person\", \"url\": \"/celebrity/1300707/\", \"name\": \"麦克·韦柏 Mike Werb\"}, {\"@type\": \"Person\", \"url\": \"/celebrity/1294115/\", \"name\": \"梅根·保罗 Megan Paul\"}, {\"@type\": \"Person\", \"url\": \"/celebrity/1281105/\", \"name\": \"诺姆·卡普顿 Norm Compton\"}], \"datePublished\": \"1997-06-27\", \"genre\": [\"动作\", \"科幻\", \"犯罪\", \"惊悚\"], \"duration\": \"PT2H18M\", \"description\": \"凯斯特（尼古拉斯•凯奇 Nicolas Cage 饰）是一个恐怖分子，他本想杀死探员西恩（约翰•特拉沃塔 John Travolta 饰），却误杀了西恩的儿子，西恩更与凯斯特结下不共戴天之仇。在逮捕凯...\", \"@type\": \"Movie\", \"aggregateRating\": {\"@type\": \"AggregateRating\", \"ratingCount\": \"306118\", \"bestRating\": \"10\", \"worstRating\": \"2\", \"ratingValue\": \"8.5\"}, \"area\": \" 美国\"}'"
      ]
     },
     "execution_count": 149,
     "metadata": {},
     "output_type": "execute_result"
    }
   ],
   "source": [
    "line.encode().decode()"
   ]
  },
  {
   "cell_type": "code",
   "execution_count": 151,
   "metadata": {},
   "outputs": [],
   "source": [
    "with open('movie_data.txt', 'wt',encoding='utf-8', errors='replace') as f:\n",
    "    f.writelines([json.dumps(info_dict, ensure_ascii=False).encode().decode()+'\\n' for info_dict in info_dict_list])"
   ]
  },
  {
   "cell_type": "code",
   "execution_count": null,
   "metadata": {},
   "outputs": [],
   "source": [
    "detailed_page = session.get(detailed_page_url[0], headers=toplist_headers)"
   ]
  },
  {
   "cell_type": "code",
   "execution_count": null,
   "metadata": {
    "scrolled": false
   },
   "outputs": [],
   "source": [
    "movie_soup = BeautifulSoup(detailed_page.text, 'html.parser')\n",
    "info_dict = json.loads(movie_soup.select('script[type=\"application/ld+json\"]')[0].text)\n",
    "info_dict"
   ]
  },
  {
   "cell_type": "code",
   "execution_count": null,
   "metadata": {},
   "outputs": [],
   "source": [
    "info_list = [i.string for i in movie_soup.select('div#info')[0].children]\n",
    "for i, s in enumerate(info_list):\n",
    "    if s == '制片国家/地区:':\n",
    "        break\n",
    "info_dict['area'] = info_list[i+1]"
   ]
  },
  {
   "cell_type": "code",
   "execution_count": null,
   "metadata": {},
   "outputs": [],
   "source": []
  },
  {
   "cell_type": "code",
   "execution_count": null,
   "metadata": {},
   "outputs": [],
   "source": [
    "if response.status_code == 200:\n",
    "    self.dynamics(response.text)"
   ]
  },
  {
   "cell_type": "code",
   "execution_count": null,
   "metadata": {},
   "outputs": [],
   "source": [
    "class Login(object):\n",
    "    def __init__(self):\n",
    "        self.headers = {\n",
    "            'User-Agent': 'Mozilla/5.0 (Windows NT 10.0; Win64; x64) AppleWebKit/537.36 (KHTML, like Gecko) Chrome/80.0.3987.122 Safari/537.36',\n",
    "            'Host': 'accounts.douban.com'\n",
    "        }\n",
    "        self.login_url = 'https://accounts.douban.com/j/mobile/login/basic'\n",
    "        self.post_url = 'https://github.com/session'\n",
    "        self.logined_url = 'https://github.com/settings/profile'\n",
    "        self.session = requests.Session()\n",
    "    \n",
    "    def token(self):\n",
    "        response = self.session.get(self.login_url, headers=self.headers)\n",
    "        selector = etree.HTML(response.text)\n",
    "        token = selector.xpath('//div//input[2]/@value')\n",
    "        return token\n",
    "    \n",
    "    def login(self, email, password):\n",
    "        post_data = {\n",
    "            'commit': 'Sign in',\n",
    "            'utf8': '✓',\n",
    "            'authenticity_token': self.token()[0],\n",
    "            'login': email,\n",
    "            'password': password\n",
    "        }\n",
    "        response = self.session.post(self.post_url, data=post_data, headers=self.headers)\n",
    "        if response.status_code == 200:\n",
    "            self.dynamics(response.text)\n",
    "        \n",
    "        response = self.session.get(self.logined_url, headers=self.headers)\n",
    "        if response.status_code == 200:\n",
    "            self.profile(response.text)\n",
    "    \n",
    "    def dynamics(self, html):\n",
    "        selector = etree.HTML(html)\n",
    "        dynamics = selector.xpath('//div[contains(@class, \"news\")]//div[contains(@class, \"alert\")]')\n",
    "        for item in dynamics:\n",
    "            dynamic = ' '.join(item.xpath('.//div[@class=\"title\"]//text()')).strip()\n",
    "            print(dynamic)\n",
    "    \n",
    "    def profile(self, html):\n",
    "        selector = etree.HTML(html)\n",
    "        name = selector.xpath('//input[@id=\"user_profile_name\"]/@value')[0]\n",
    "        email = selector.xpath('//select[@id=\"user_profile_email\"]/option[@value!=\"\"]/text()')\n",
    "        print(name, email)\n",
    "\n",
    "\n",
    "if __name__ == \"__main__\":\n",
    "    login = Login()\n",
    "    login.login(email='cqc@cuiqingcai.com', password='password')"
   ]
  }
 ],
 "metadata": {
  "kernelspec": {
   "display_name": "Python 3",
   "language": "python",
   "name": "python3"
  },
  "language_info": {
   "codemirror_mode": {
    "name": "ipython",
    "version": 3
   },
   "file_extension": ".py",
   "mimetype": "text/x-python",
   "name": "python",
   "nbconvert_exporter": "python",
   "pygments_lexer": "ipython3",
   "version": "3.7.4"
  }
 },
 "nbformat": 4,
 "nbformat_minor": 2
}
