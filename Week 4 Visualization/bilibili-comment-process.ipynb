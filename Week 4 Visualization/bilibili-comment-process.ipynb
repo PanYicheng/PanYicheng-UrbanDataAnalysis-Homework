{
 "cells": [
  {
   "cell_type": "code",
   "execution_count": 1,
   "metadata": {},
   "outputs": [],
   "source": [
    "import pickle\n",
    "import os\n",
    "from openpyxl import Workbook\n",
    "import requests\n",
    "import urllib\n",
    "import hashlib\n",
    "import json\n",
    "import time\n",
    "# from pypinyin import pinyin"
   ]
  },
  {
   "cell_type": "code",
   "execution_count": 2,
   "metadata": {},
   "outputs": [],
   "source": [
    "baidu_ak = 'xkQNCsGZgBBYa2vAvEOyHn7qEvFlsdPu'\n",
    "baidu_sk = 'DHcj9OshlO4r2Z1kLL7k6W8gu1f6Pqun'\n",
    "province_names = [\n",
    "                # 直辖市\n",
    "                '直辖市', \n",
    "                # 自治区类别\n",
    "                  '新疆自治区', '西藏自治区', '宁夏自治区', '内蒙古自治区', \n",
    "                  '广西自治区',\n",
    "                # 常规省份\n",
    "                  '黑龙江', '吉林', '辽宁', '河北', '山东', '江苏', '安徽',\n",
    "                  '浙江', '福建', '广东', '海南', '云南', '贵州', '四川',\n",
    "                  '湖南', '湖北', '河南', '山西', '陕西', '甘肃', '青海',\n",
    "                  '江西', '台湾', \n",
    "                # 特别行政区\n",
    "                  '特别行政区']\n",
    "city_names=[\n",
    "    # 直辖市\n",
    "    ['北京','天津','上海','重庆'],\n",
    "    # 自治区类别\n",
    "    ['乌鲁木齐', '克拉玛依'],\n",
    "    ['拉萨'],\n",
    "    ['银川', '石嘴山', '吴忠', '固原', '中卫'],\n",
    "    ['呼和浩特', '包头', '乌海', '赤峰', '通辽', '鄂尔多斯', '呼伦贝尔', \n",
    "        '巴彦淖尔', '乌兰察布'],\n",
    "    ['南宁', '柳州', '桂林', '梧州', '北海', '崇左', '来宾', '贺州', '玉林', \n",
    "        '百色', '河池', '钦州', '防城港', '贵港'],\n",
    "    # 常规省份\n",
    "    ['哈尔滨', '大庆', '齐齐哈尔', '佳木斯', '鸡西', '鹤岗', '双鸭山', '牡丹江', \n",
    "        '伊春', '七台河', '黑河', '绥化'],\n",
    "    ['长春', '吉林', '四平', '辽源', '通化', '白山', '松原', '白城'],\n",
    "    ['沈阳', '大连', '鞍山', '抚顺', '本溪', '丹东', '锦州', '营口', '阜新', \n",
    "        '辽阳', '盘锦', '铁岭', '朝阳', '葫芦岛'],\n",
    "    ['石家庄', '唐山', '邯郸', '秦皇岛', '保定', '张家口', '承德', '廊坊', '沧州',\n",
    "         '衡水', '邢台'],\n",
    "    ['济南', '青岛', '淄博', '枣庄', '东营', '烟台', '潍坊', '济宁', '泰安', \n",
    "        '威海', '日照', '莱芜', '临沂', '德州', '聊城', '菏泽', '滨州'],\n",
    "    ['南京', '镇江', '常州', '无锡', '苏州', '徐州', '连云港', '淮安', '盐城', \n",
    "        '扬州', '泰州', '南通', '宿迁'],\n",
    "    ['合肥', '芜湖', '蚌埠', '淮南', '马鞍山', '淮北', '铜陵', '安庆', '黄山', \n",
    "        '阜阳', '宿州', '滁州', '六安', '宣城', '池州', '亳州', '潜山'],\n",
    "    ['杭州', '嘉兴', '湖州', '宁波', '金华', '温州', '丽水', '绍兴', '衢州', \n",
    "        '舟山', '台州'],\n",
    "    ['福州', '厦门', '泉州', '三明', '南平', '漳州', '莆田', '宁德', '龙岩'],\n",
    "    ['广州', '深圳', '汕头', '惠州', '珠海', '揭阳', '佛山', '河源', '阳江', \n",
    "        '茂名', '湛江', '梅州', '肇庆', '韶关', '潮州', '东莞', '中山', '清远', \n",
    "        '江门', '汕尾', '云浮'],\n",
    "    ['海口', '三亚'],\n",
    "    ['昆明', '曲靖', '玉溪', '保山', '昭通', '丽江', '普洱', '临沧'],\n",
    "    ['贵阳', '六盘水', '遵义', '安顺'],\n",
    "    ['成都', '绵阳', '德阳', '广元', '自贡', '攀枝花', '乐山', '南充', '内江', \n",
    "        '遂宁', '广安', '泸州', '达州', '眉山', '宜宾', '雅安', '资阳'],\n",
    "    ['长沙', '株洲', '湘潭', '衡阳', '岳阳', '郴州', '永州', '邵阳', '怀化', \n",
    "        '常德', '益阳', '张家界', '娄底'],\n",
    "    ['武汉', '襄樊', '宜昌', '黄石', '鄂州', '随州', '荆州', '荆门', '十堰', \n",
    "        '孝感', '黄冈', '咸宁'],\n",
    "    ['郑州', '洛阳', '开封', '漯河', '安阳', '新乡', '周口', '三门峡', '焦作', \n",
    "        '平顶山', '信阳', '南阳', '鹤壁', '濮阳', '许昌', '商丘', '驻马店'],\n",
    "    ['太原', '大同', '忻州', '阳泉', '长治', '晋城', '朔州', '晋中', '运城', \n",
    "        '临汾', '吕梁'],\n",
    "    ['西安', '咸阳', '铜川', '延安', '宝鸡', '渭南', '汉中', '安康', '商洛', \n",
    "        '榆林'],\n",
    "    ['兰州', '天水', '平凉', '酒泉', '嘉峪关', '金昌', '白银', '武威', '张掖', \n",
    "        '庆阳', '定西', '陇南'],\n",
    "    ['西宁'],\n",
    "    ['南昌', '九江', '赣州', '吉安', '鹰潭', '上饶', '萍乡', '景德镇', '新余', \n",
    "        '宜春', '抚州'],\n",
    "    ['台北', '台中', '基隆', '高雄', '台南', '新竹', '嘉义'],\n",
    "    # 特别行政区\n",
    "    ['香港', '澳门']\n",
    "]"
   ]
  },
  {
   "cell_type": "code",
   "execution_count": 3,
   "metadata": {},
   "outputs": [],
   "source": [
    "city_data_dict = dict()\n",
    "for prov_ind, prov_name in enumerate(province_names):\n",
    "    for city_ind, city_name in enumerate(city_names[prov_ind]):\n",
    "        with open(os.path.join('bilibili-comment-by-city', city_name+'.pkl'), 'rb') as f:\n",
    "            city_data = pickle.load(f)\n",
    "        city_data_dict[city_name] = city_data"
   ]
  },
  {
   "cell_type": "code",
   "execution_count": 17,
   "metadata": {},
   "outputs": [],
   "source": [
    "def extract_statistic(city_data: dict):\n",
    "    interaction_sum = 0\n",
    "    comment_num = 0\n",
    "    for video_url, value in city_data.items():\n",
    "        interaction_sum += value[2]['interactionStatistic']['userInteractionCount']\n",
    "        comment_num += len(value[3])\n",
    "    return interaction_sum, comment_num\n",
    "\n",
    "\n",
    "def get_address_info_baidu(address, baidu_ak, baidu_sk):\n",
    "    # 以get请求为例http://api.map.baidu.com/geocoding/v3/?address=百度大厦&output=json&ak=yourak\n",
    "    queryStr = '/geocoding/v3/?address={address}&output=json&ak={ak}'.format(address=address, ak=baidu_ak)\n",
    "\n",
    "    # 对queryStr进行转码，safe内的保留字符不转换\n",
    "    encodedStr = urllib.parse.quote(queryStr, safe=\"/:=&?#+!$,;'@()*[]\")\n",
    "\n",
    "    # 在最后直接追加上yoursk\n",
    "    rawStr = encodedStr + baidu_sk\n",
    "\n",
    "    # md5计算出的sn值7de5a22212ffaa9e326444c75a58f9a0\n",
    "    # 最终合法请求url是http://api.map.baidu.com/geocoder/v2/?address=百度大厦&output=json&ak=yourak&sn=7de5a22212ffaa9e326444c75a58f9a0\n",
    "    sn = hashlib.md5(urllib.parse.quote_plus(rawStr).encode('utf-8')).hexdigest()\n",
    "    res = requests.get(url='http://api.map.baidu.com/geocoding/v3/', \n",
    "                   params={'address':address,\n",
    "                          'output': 'json',\n",
    "                          'ak': baidu_ak,\n",
    "                          'sn': sn})\n",
    "    if res.status_code == 200:\n",
    "        res_json = json.loads(res.text)\n",
    "        return res_json\n",
    "    return None\n",
    "\n",
    "\n",
    "def get_address_location_baidu(address, baidu_ak, baidu_sk):\n",
    "    # 以get请求为例http://api.map.baidu.com/geocoding/v3/?address=百度大厦&output=json&ak=yourak\n",
    "    queryStr = '/geocoding/v3/?address={address}&output=json&ak={ak}'.format(address=address, ak=baidu_ak)\n",
    "\n",
    "    # 对queryStr进行转码，safe内的保留字符不转换\n",
    "    encodedStr = urllib.parse.quote(queryStr, safe=\"/:=&?#+!$,;'@()*[]\")\n",
    "\n",
    "    # 在最后直接追加上yoursk\n",
    "    rawStr = encodedStr + baidu_sk\n",
    "\n",
    "    # md5计算出的sn值7de5a22212ffaa9e326444c75a58f9a0\n",
    "    # 最终合法请求url是http://api.map.baidu.com/geocoder/v2/?address=百度大厦&output=json&ak=yourak&sn=7de5a22212ffaa9e326444c75a58f9a0\n",
    "    sn = hashlib.md5(urllib.parse.quote_plus(rawStr).encode('utf-8')).hexdigest()\n",
    "    res = requests.get(url='http://api.map.baidu.com/geocoding/v3/', \n",
    "                   params={'address':address,\n",
    "                          'output': 'json',\n",
    "                          'ak': baidu_ak,\n",
    "                          'sn': sn})\n",
    "    if res.status_code == 200:\n",
    "        res_json = json.loads(res.text)\n",
    "        if res_json['status'] == 0:\n",
    "            return res_json['result']['location']\n",
    "    return None"
   ]
  },
  {
   "cell_type": "code",
   "execution_count": 6,
   "metadata": {
    "scrolled": true
   },
   "outputs": [
    {
     "data": {
      "text/plain": [
       "(13996578, 19478)"
      ]
     },
     "execution_count": 6,
     "metadata": {},
     "output_type": "execute_result"
    }
   ],
   "source": [
    "extract_statistic(city_data_dict[city_names[0][3]])"
   ]
  },
  {
   "cell_type": "code",
   "execution_count": 11,
   "metadata": {},
   "outputs": [
    {
     "name": "stdout",
     "output_type": "stream",
     "text": [
      "襄樊 location retrieve error !\n",
      "香港 location retrieve error !\n"
     ]
    }
   ],
   "source": [
    "wb = Workbook()\n",
    "ws = wb.create_sheet('bilibili-city-info-full', 0)\n",
    "ws.cell(row=1, column=1, value='City Name')\n",
    "ws.cell(row=1, column=2, value='Longitude')\n",
    "ws.cell(row=1, column=3, value='Latitude')\n",
    "ws.cell(row=1, column=4, value='User Interaction Count')\n",
    "ws.cell(row=1, column=5, value='Comment Count')\n",
    "base_index = 2\n",
    "no_location_cities = {}\n",
    "for prov_ind, prov_name in enumerate(province_names):\n",
    "    for city_ind, city_name in enumerate(city_names[prov_ind]):\n",
    "        ws.cell(row=city_ind+base_index, column=1, value=city_name)\n",
    "\n",
    "        # Get location info from baidu api\n",
    "        location = get_address_location_baidu(city_name, baidu_ak, baidu_sk)\n",
    "        time.sleep(1)\n",
    "        if location is not None:\n",
    "            ws.cell(row=city_ind+base_index, column=2, value=location['lng'])\n",
    "            ws.cell(row=city_ind+base_index, column=3, value=location['lat'])\n",
    "        else:\n",
    "            no_location_cities[(prov_ind, city_ind)]=city_name\n",
    "            print(city_name+' location retrieve error !')\n",
    "        stat = extract_statistic(city_data_dict[city_name])\n",
    "        ws.cell(row=city_ind+base_index, column=4, value=stat[0])\n",
    "        ws.cell(row=city_ind+base_index, column=5, value=stat[1])\n",
    "    base_index += len(city_names[prov_ind])\n",
    "wb.save('bilibili-city-info-full.xlsx')"
   ]
  },
  {
   "cell_type": "code",
   "execution_count": null,
   "metadata": {},
   "outputs": [],
   "source": [
    "[_[1] for _ in city_data_dict[city_names[3]].values()]"
   ]
  },
  {
   "cell_type": "code",
   "execution_count": 21,
   "metadata": {},
   "outputs": [
    {
     "data": {
      "text/plain": [
       "{'status': 1, 'msg': 'Internal Service Error:无相关结果', 'results': []}"
      ]
     },
     "execution_count": 21,
     "metadata": {},
     "output_type": "execute_result"
    }
   ],
   "source": [
    "get_address_info_baidu('HongKong', baidu_ak, baidu_sk)"
   ]
  },
  {
   "cell_type": "code",
   "execution_count": null,
   "metadata": {},
   "outputs": [],
   "source": []
  }
 ],
 "metadata": {
  "kernelspec": {
   "display_name": "Python 3",
   "language": "python",
   "name": "python3"
  },
  "language_info": {
   "codemirror_mode": {
    "name": "ipython",
    "version": 3
   },
   "file_extension": ".py",
   "mimetype": "text/x-python",
   "name": "python",
   "nbconvert_exporter": "python",
   "pygments_lexer": "ipython3",
   "version": "3.7.4"
  }
 },
 "nbformat": 4,
 "nbformat_minor": 2
}
